{
 "cells": [
  {
   "cell_type": "code",
   "execution_count": null,
   "metadata": {},
   "outputs": [],
   "source": [
    "from baseline_models import KNNBaselineModel, RFBaselineModel, SVMBaselineModel\n",
    "\n",
    "features = ['all', 'node', 'network']"
   ]
  },
  {
   "cell_type": "code",
   "execution_count": null,
   "metadata": {},
   "outputs": [],
   "source": [
    "#Random Forest\n",
    "for i in features:\n",
    "    rf = RFBaselineModel(i)\n",
    "    rf.extract_dataset()\n",
    "    rf.run_trials()\n",
    "    rf.print_results()"
   ]
  },
  {
   "cell_type": "code",
   "execution_count": null,
   "metadata": {},
   "outputs": [],
   "source": [
    "# Support Vector Machine\n",
    "for i in features:\n",
    "    rf = SVMBaselineModel(i)\n",
    "    rf.extract_dataset()\n",
    "    rf.run_trials()\n",
    "    rf.print_results()"
   ]
  },
  {
   "cell_type": "code",
   "execution_count": null,
   "metadata": {},
   "outputs": [],
   "source": [
    "# K-Nearest Neighbours\n",
    "for i in features:\n",
    "    rf = KNNBaselineModel(i)\n",
    "    rf.extract_dataset()\n",
    "    rf.run_trials()\n",
    "    rf.print_results()"
   ]
  }
 ],
 "metadata": {
  "interpreter": {
   "hash": "4410ce168b863aee9b4918bd897f8b9953e347697e7905a6c1ad714c78ed846f"
  },
  "kernelspec": {
   "display_name": "Python 3.8.6 64-bit",
   "language": "python",
   "name": "python3"
  },
  "language_info": {
   "codemirror_mode": {
    "name": "ipython",
    "version": 3
   },
   "file_extension": ".py",
   "mimetype": "text/x-python",
   "name": "python",
   "nbconvert_exporter": "python",
   "pygments_lexer": "ipython3",
   "version": "3.8.6"
  },
  "orig_nbformat": 4
 },
 "nbformat": 4,
 "nbformat_minor": 2
}
