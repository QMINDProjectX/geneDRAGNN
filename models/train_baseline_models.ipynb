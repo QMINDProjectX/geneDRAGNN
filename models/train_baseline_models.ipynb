{
 "cells": [
  {
   "cell_type": "code",
   "execution_count": 1,
   "metadata": {},
   "outputs": [],
   "source": [
    "from baseline_models import KNNBaselineModel, RFBaselineModel, SVMBaselineModel\n",
    "\n",
    "features = ['all', 'node', 'network']"
   ]
  },
  {
   "cell_type": "code",
   "execution_count": 2,
   "metadata": {},
   "outputs": [
    {
     "name": "stdout",
     "output_type": "stream",
     "text": [
      "\n",
      "Running 1 trials with all features for the K-Nearest Neighbours."
     ]
    },
    {
     "name": "stderr",
     "output_type": "stream",
     "text": [
      "100%|██████████| 1/1 [00:00<00:00,  1.12it/s]\n"
     ]
    },
    {
     "name": "stdout",
     "output_type": "stream",
     "text": [
      "RF - all\n",
      "\tTrials: 1\n",
      "\tAvg. Accuracy: 0.7756410256410257\n",
      "\tStandard Deviation: 0.0\n",
      "\n",
      "Running 1 trials with node features for the K-Nearest Neighbours."
     ]
    },
    {
     "name": "stderr",
     "output_type": "stream",
     "text": [
      "100%|██████████| 1/1 [00:00<00:00,  1.77it/s]\n"
     ]
    },
    {
     "name": "stdout",
     "output_type": "stream",
     "text": [
      "RF - node\n",
      "\tTrials: 1\n",
      "\tAvg. Accuracy: 0.6666666666666666\n",
      "\tStandard Deviation: 0.0\n",
      "\n",
      "Running 1 trials with network features for the K-Nearest Neighbours."
     ]
    },
    {
     "name": "stderr",
     "output_type": "stream",
     "text": [
      "100%|██████████| 1/1 [00:00<00:00,  1.51it/s]"
     ]
    },
    {
     "name": "stdout",
     "output_type": "stream",
     "text": [
      "RF - network\n",
      "\tTrials: 1\n",
      "\tAvg. Accuracy: 0.7596153846153846\n",
      "\tStandard Deviation: 0.0\n"
     ]
    },
    {
     "name": "stderr",
     "output_type": "stream",
     "text": [
      "\n"
     ]
    }
   ],
   "source": [
    "#Random Forest\n",
    "for i in features:\n",
    "    rf = RFBaselineModel(i)\n",
    "    rf.extract_dataset()\n",
    "    rf.run_trials()\n",
    "    rf.print_results()"
   ]
  },
  {
   "cell_type": "code",
   "execution_count": 3,
   "metadata": {},
   "outputs": [
    {
     "name": "stdout",
     "output_type": "stream",
     "text": [
      "\n",
      "Running 1 trials with all features for the Support Vector Machine."
     ]
    },
    {
     "name": "stderr",
     "output_type": "stream",
     "text": [
      "100%|██████████| 1/1 [00:00<00:00,  4.30it/s]\n"
     ]
    },
    {
     "name": "stdout",
     "output_type": "stream",
     "text": [
      "SVM - all\n",
      "\tTrials: 1\n",
      "\tAvg. Accuracy: 0.7467948717948718\n",
      "\tStandard Deviation: 0.0\n",
      "\n",
      "Running 1 trials with node features for the Support Vector Machine."
     ]
    },
    {
     "name": "stderr",
     "output_type": "stream",
     "text": [
      "100%|██████████| 1/1 [00:00<00:00,  7.21it/s]"
     ]
    },
    {
     "name": "stdout",
     "output_type": "stream",
     "text": [
      "SVM - node\n",
      "\tTrials: 1\n",
      "\tAvg. Accuracy: 0.6762820512820513\n",
      "\tStandard Deviation: 0.0\n"
     ]
    },
    {
     "name": "stderr",
     "output_type": "stream",
     "text": [
      "\n"
     ]
    },
    {
     "name": "stdout",
     "output_type": "stream",
     "text": [
      "\n",
      "Running 1 trials with network features for the Support Vector Machine."
     ]
    },
    {
     "name": "stderr",
     "output_type": "stream",
     "text": [
      "100%|██████████| 1/1 [00:00<00:00,  7.37it/s]"
     ]
    },
    {
     "name": "stdout",
     "output_type": "stream",
     "text": [
      "SVM - network\n",
      "\tTrials: 1\n",
      "\tAvg. Accuracy: 0.7564102564102564\n",
      "\tStandard Deviation: 0.0\n"
     ]
    },
    {
     "name": "stderr",
     "output_type": "stream",
     "text": [
      "\n"
     ]
    }
   ],
   "source": [
    "# Support Vector Machine\n",
    "for i in features:\n",
    "    rf = SVMBaselineModel(i)\n",
    "    rf.extract_dataset()\n",
    "    rf.run_trials()\n",
    "    rf.print_results()"
   ]
  },
  {
   "cell_type": "code",
   "execution_count": 4,
   "metadata": {},
   "outputs": [
    {
     "name": "stdout",
     "output_type": "stream",
     "text": [
      "\n",
      "Running 1 trials with all features for the K-Nearest Neighbours."
     ]
    },
    {
     "name": "stderr",
     "output_type": "stream",
     "text": [
      "100%|██████████| 1/1 [00:00<00:00, 10.90it/s]"
     ]
    },
    {
     "name": "stdout",
     "output_type": "stream",
     "text": [
      "KNN - all\n",
      "\tTrials: 1\n",
      "\tAvg. Accuracy: 0.6025641025641025\n",
      "\tStandard Deviation: 0.0\n"
     ]
    },
    {
     "name": "stderr",
     "output_type": "stream",
     "text": [
      "\n"
     ]
    },
    {
     "name": "stdout",
     "output_type": "stream",
     "text": [
      "\n",
      "Running 1 trials with node features for the K-Nearest Neighbours."
     ]
    },
    {
     "name": "stderr",
     "output_type": "stream",
     "text": [
      "100%|██████████| 1/1 [00:00<00:00, 18.91it/s]"
     ]
    },
    {
     "name": "stdout",
     "output_type": "stream",
     "text": [
      "KNN - node\n",
      "\tTrials: 1\n",
      "\tAvg. Accuracy: 0.6506410256410257\n",
      "\tStandard Deviation: 0.0\n"
     ]
    },
    {
     "name": "stderr",
     "output_type": "stream",
     "text": [
      "\n"
     ]
    },
    {
     "name": "stdout",
     "output_type": "stream",
     "text": [
      "\n",
      "Running 1 trials with network features for the K-Nearest Neighbours."
     ]
    },
    {
     "name": "stderr",
     "output_type": "stream",
     "text": [
      "100%|██████████| 1/1 [00:00<00:00, 18.22it/s]"
     ]
    },
    {
     "name": "stdout",
     "output_type": "stream",
     "text": [
      "KNN - network\n",
      "\tTrials: 1\n",
      "\tAvg. Accuracy: 0.5833333333333334\n",
      "\tStandard Deviation: 0.0\n"
     ]
    },
    {
     "name": "stderr",
     "output_type": "stream",
     "text": [
      "\n"
     ]
    }
   ],
   "source": [
    "# K-Nearest Neighbours\n",
    "for i in features:\n",
    "    rf = KNNBaselineModel(i)\n",
    "    rf.extract_dataset()\n",
    "    rf.run_trials()\n",
    "    rf.print_results()"
   ]
  }
 ],
 "metadata": {
  "interpreter": {
   "hash": "4410ce168b863aee9b4918bd897f8b9953e347697e7905a6c1ad714c78ed846f"
  },
  "kernelspec": {
   "display_name": "Python 3.8.6 64-bit",
   "language": "python",
   "name": "python3"
  },
  "language_info": {
   "codemirror_mode": {
    "name": "ipython",
    "version": 3
   },
   "file_extension": ".py",
   "mimetype": "text/x-python",
   "name": "python",
   "nbconvert_exporter": "python",
   "pygments_lexer": "ipython3",
   "version": "3.8.6"
  },
  "orig_nbformat": 4
 },
 "nbformat": 4,
 "nbformat_minor": 2
}
